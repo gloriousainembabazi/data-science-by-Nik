{
 "cells": [
  {
   "cell_type": "markdown",
   "id": "6e7d3cc8-9923-4348-bf50-0cdafcaa3304",
   "metadata": {},
   "source": [
    "1. # How Linear Regression Works (Simplified)"
   ]
  },
  {
   "cell_type": "raw",
   "id": "577a0dc0-b179-4047-915c-9a436f9baf8f",
   "metadata": {},
   "source": [
    "Linear regression is one of the fundamental machine learning and statistical techniques for modeling the \n",
    "relationship between two or more variables\n",
    "The goal of linear regression is to find the line that best fits the data. \n",
    "This allows us to make predictions about y based on values of x.\n",
    " The main purpose of linear regression is to predict future outcomes based on historical data"
   ]
  },
  {
   "cell_type": "markdown",
   "id": "23d7dd12-0d16-4c56-9a9b-2468c1b94a36",
   "metadata": {},
   "source": [
    " # 2. Understanding SVM (Support Vector Machine)"
   ]
  },
  {
   "cell_type": "raw",
   "id": "8d370cb4-83c4-415c-bfc8-d29e6808e8de",
   "metadata": {},
   "source": [
    "A Support Vector Machine (SVM) is a supervised machine\n",
    "learning algorithm used for classification,\n",
    "regression, and outlier detection tasks.\n",
    "The primary objective of SVM is to find the optimal hyperplane that separates data points\n",
    "of different classes in an N-dimensional space"
   ]
  },
  {
   "cell_type": "markdown",
   "id": "857956f8-407b-41e0-b584-74b408bdfd1f",
   "metadata": {},
   "source": [
    "# 3. Example of a Real-World Decision Represented as a Decision Tree"
   ]
  },
  {
   "cell_type": "raw",
   "id": "aff10795-0ab9-40e9-98a2-9498f723a71f",
   "metadata": {},
   "source": [
    "Every decision tree has tree branches that is;\n",
    "a root node\n",
    "leaf node and\n",
    "branches\n",
    "\n",
    "No matter what type is the decision tree, it starts with a specific decision.\n",
    "This decision is depicted with a box – the root node.\n",
    "\n",
    "Root and leaf nodes hold questions or some criteria you have to answer. Commonly, \n",
    "nodes appear as a squares or circles. Squares depict decisions, while circles represent uncertain outcomes.\n",
    "\n",
    "# Example\n",
    "A person deciding whether to eat or not:\n",
    "\n",
    "First question: Do what to eat?\n",
    "Yes → Next question:what kind of food do you wish to eat?\n",
    "Yes → Approve \n",
    "No → Check the favourate dishes\n"
   ]
  },
  {
   "cell_type": "markdown",
   "id": "bb71925e-9b67-4396-8fd8-f6b3bc485822",
   "metadata": {},
   "source": [
    "# 4. Decide if it is best to use SVMs or Decision\n",
    "# Trees in these examples and explain WHY:\n",
    "# a. A car dealership wants to predict the price of\n",
    "# a used car based on: Car mileage, Age,\n",
    "# Number of previous owners\n",
    "# b. A hospital wants to predict whether a patient has \n",
    "# Disease A or not based on their symptoms and test results"
   ]
  },
  {
   "cell_type": "raw",
   "id": "6323a933-e259-4c66-a1ab-dde3a9ce7068",
   "metadata": {},
   "source": [
    "(a) Predicting the price of a used car\n",
    "Best choice: Decision Tree\n",
    "Why? The price is a number, not just \"yes\" or \"no.\" \n",
    "Decision Trees are great at breaking down data step by step, \n",
    "like checking mileage, age, and owners to estimate the best price.\n",
    "\n",
    "(b) Predicting if a patient has Disease A\n",
    "Best choice: SVM\n",
    "Why? The answer is \"Yes\" or \"No\" (the patient has the disease or not). \n",
    "SVM is great at drawing a line to separate sick and healthy patients based on test results and symptoms.\n",
    "It helps make the decision clear and accurate."
   ]
  }
 ],
 "metadata": {
  "kernelspec": {
   "display_name": "Python 3 (ipykernel)",
   "language": "python",
   "name": "python3"
  },
  "language_info": {
   "name": ""
  }
 },
 "nbformat": 4,
 "nbformat_minor": 5
}
